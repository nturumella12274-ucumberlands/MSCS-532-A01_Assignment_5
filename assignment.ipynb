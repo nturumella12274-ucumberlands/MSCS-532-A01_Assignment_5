{
 "cells": [
  {
   "cell_type": "markdown",
   "metadata": {},
   "source": [
    "# Quicksort Algorithm: Implementation, Analysis, and Randomization\n",
    "## Assignment 5\n",
    "\n",
    "**Student Name: Nihar Turumella**\n",
    "\n",
    "**Date: September 2024**\n",
    "\n",
    "---\n",
    "\n",
    "### Abstract\n",
    "This report explores the implementation and analysis of the Quicksort algorithm, focusing on both deterministic and randomized versions. We analyze their time complexities and compare their performance empirically across different input sizes and data distributions. The results indicate that randomization helps mitigate worst-case performance, offering a significant improvement over the deterministic version in certain scenarios.\n",
    "\n",
    "---\n",
    "\n",
    "### Introduction\n",
    "Quicksort is a widely used comparison-based sorting algorithm, renowned for its efficiency and simplicity. This report delves into the deterministic and randomized versions of Quicksort, exploring their time complexity, space complexity, and the impact of randomization on performance. Additionally, an empirical comparison is performed across different input sizes and distributions to validate theoretical expectations.\n",
    "\n",
    "---\n",
    "\n",
    "### Quicksort Algorithm\n",
    "\n",
    "#### Deterministic Quicksort\n",
    "The deterministic version of Quicksort follows the classical algorithm, where the pivot is chosen in a predefined manner (e.g., selecting the middle element). The algorithm works by partitioning the array into two subarrays and recursively sorting them.\n"
   ]
  },
  {
   "cell_type": "code",
   "execution_count": 8,
   "metadata": {},
   "outputs": [],
   "source": [
    "\n",
    "def quicksort(arr):\n",
    "    if len(arr) <= 1:\n",
    "        return arr\n",
    "    else:\n",
    "        pivot = arr[len(arr) // 2]  # Deterministic choice of pivot (middle element)\n",
    "        left = [x for x in arr if x < pivot]\n",
    "        middle = [x for x in arr if x == pivot]\n",
    "        right = [x for x in arr if x > pivot]\n",
    "        return quicksort(left) + middle + quicksort(right)"
   ]
  },
  {
   "cell_type": "markdown",
   "metadata": {},
   "source": [
    "#### Randomized Quicksort\n",
    "The randomized version of Quicksort improves upon the deterministic one by choosing the pivot randomly. This helps in mitigating the worst-case performance, especially for certain types of input (e.g., already sorted arrays)."
   ]
  },
  {
   "cell_type": "code",
   "execution_count": 9,
   "metadata": {},
   "outputs": [],
   "source": [
    "import random\n",
    "\n",
    "def randomized_quicksort(arr):\n",
    "    if len(arr) <= 1:\n",
    "        return arr\n",
    "    else:\n",
    "        pivot = arr[random.randint(0, len(arr) - 1)]  # Random choice of pivot\n",
    "        left = [x for x in arr if x < pivot]\n",
    "        middle = [x for x in arr if x == pivot]\n",
    "        right = [x for x in arr if x > pivot]\n",
    "        return randomized_quicksort(left) + middle + randomized_quicksort(right)"
   ]
  },
  {
   "cell_type": "markdown",
   "metadata": {},
   "source": [
    "### Theoretical Performance Analysis\n",
    "\n",
    "#### Time Complexity\n",
    "- **Best Case**: The best-case time complexity of Quicksort occurs when the pivot splits the array into two nearly equal parts, leading to a time complexity of \\(O(n \\log n)\\).\n",
    "- **Average Case**: On average, the pivot will split the array into reasonably equal parts, leading to an expected time complexity of \\(O(n \\log n)\\).\n",
    "- **Worst Case**: The worst-case time complexity arises when the pivot is always the smallest or largest element, resulting in \\(O(n^2)\\). This scenario is common when the input array is already sorted.\n",
    "\n",
    "#### Space Complexity\n",
    "The space complexity of Quicksort is \\(O(\\log n)\\) due to recursive function calls stored on the call stack. Additional memory is required for storing subarrays during partitioning, but it remains minimal.\n",
    "\n",
    "#### Impact of Randomization\n",
    "Randomizing the pivot selection significantly reduces the likelihood of encountering the worst-case scenario. By randomly choosing the pivot, we avoid the bias introduced by sorted or reverse-sorted inputs, thus ensuring a more balanced partitioning in most cases.\n",
    "\n",
    "---\n",
    "\n",
    "### Empirical Analysis\n",
    "\n",
    "The empirical analysis compares the deterministic and randomized versions of Quicksort across different input sizes and distributions. The performance is measured in terms of execution time for random, sorted, and reverse-sorted arrays of varying sizes."
   ]
  },
  {
   "cell_type": "code",
   "execution_count": 10,
   "metadata": {},
   "outputs": [],
   "source": [
    "import time\n",
    "import random\n",
    "\n",
    "# Test function to compare deterministic and randomized Quicksort\n",
    "def run_tests():\n",
    "    input_sizes = [100, 1000, 5000, 10000]\n",
    "    distributions = ['random', 'sorted', 'reverse-sorted']\n",
    "\n",
    "    for size in input_sizes:\n",
    "        print(f\"Input Size: {size}\")\n",
    "        for dist in distributions:\n",
    "            if dist == 'random':\n",
    "                arr = [random.randint(0, 10000) for _ in range(size)]\n",
    "            elif dist == 'sorted':\n",
    "                arr = sorted([random.randint(0, 10000) for _ in range(size)])\n",
    "            else:  # reverse-sorted\n",
    "                arr = sorted([random.randint(0, 10000) for _ in range(size)], reverse=True)\n",
    "            \n",
    "            # Deterministic Quicksort\n",
    "            start = time.time()\n",
    "            quicksort(arr.copy())\n",
    "            end = time.time()\n",
    "            print(f\"Deterministic Quicksort - {dist} distribution: {end - start:.5f} seconds\")\n",
    "\n",
    "            # Randomized Quicksort\n",
    "            start = time.time()\n",
    "            randomized_quicksort(arr.copy())\n",
    "            end = time.time()\n",
    "            print(f\"Randomized Quicksort - {dist} distribution: {end - start:.5f} seconds\")"
   ]
  },
  {
   "cell_type": "code",
   "execution_count": 11,
   "metadata": {},
   "outputs": [
    {
     "name": "stdout",
     "output_type": "stream",
     "text": [
      "Input Size: 100\n",
      "Deterministic Quicksort - random distribution: 0.00034 seconds\n",
      "Randomized Quicksort - random distribution: 0.00021 seconds\n",
      "Deterministic Quicksort - sorted distribution: 0.00013 seconds\n",
      "Randomized Quicksort - sorted distribution: 0.00019 seconds\n",
      "Deterministic Quicksort - reverse-sorted distribution: 0.00012 seconds\n",
      "Randomized Quicksort - reverse-sorted distribution: 0.00035 seconds\n",
      "Input Size: 1000\n",
      "Deterministic Quicksort - random distribution: 0.00152 seconds\n",
      "Randomized Quicksort - random distribution: 0.00223 seconds\n",
      "Deterministic Quicksort - sorted distribution: 0.00107 seconds\n",
      "Randomized Quicksort - sorted distribution: 0.00166 seconds\n",
      "Deterministic Quicksort - reverse-sorted distribution: 0.00102 seconds\n",
      "Randomized Quicksort - reverse-sorted distribution: 0.00164 seconds\n",
      "Input Size: 5000\n",
      "Deterministic Quicksort - random distribution: 0.00732 seconds\n",
      "Randomized Quicksort - random distribution: 0.00931 seconds\n",
      "Deterministic Quicksort - sorted distribution: 0.00517 seconds\n",
      "Randomized Quicksort - sorted distribution: 0.00773 seconds\n",
      "Deterministic Quicksort - reverse-sorted distribution: 0.00644 seconds\n",
      "Randomized Quicksort - reverse-sorted distribution: 0.00881 seconds\n",
      "Input Size: 10000\n",
      "Deterministic Quicksort - random distribution: 0.01372 seconds\n",
      "Randomized Quicksort - random distribution: 0.01839 seconds\n",
      "Deterministic Quicksort - sorted distribution: 0.01060 seconds\n",
      "Randomized Quicksort - sorted distribution: 0.01653 seconds\n",
      "Deterministic Quicksort - reverse-sorted distribution: 0.01021 seconds\n",
      "Randomized Quicksort - reverse-sorted distribution: 0.01542 seconds\n"
     ]
    }
   ],
   "source": [
    "run_tests()"
   ]
  },
  {
   "cell_type": "markdown",
   "metadata": {},
   "source": [
    "### Results\n",
    "The empirical analysis shows that the randomized version of Quicksort performs better on sorted and reverse-sorted inputs, as expected. Randomized Quicksort exhibits more consistent execution times across different input distributions, unlike the deterministic version, which struggles with already sorted or reverse-sorted data."
   ]
  },
  {
   "cell_type": "markdown",
   "metadata": {},
   "source": [
    "### Conclusion\n",
    "In conclusion, both deterministic and randomized versions of Quicksort offer efficient sorting in the average case. However, randomization proves to be an effective strategy for avoiding the worst-case scenario, particularly in real-world applications where input distributions are unpredictable. The knowledge of both algorithmic approaches and their performance implications is essential for making informed decisions in algorithm selection and optimization."
   ]
  },
  {
   "cell_type": "markdown",
   "metadata": {},
   "source": [
    "### References\n",
    "\n",
    "Cormen, T. H., Leiserson, C. E., Rivest, R. L., & Stein, C. (2009). *Introduction to algorithms* (3rd ed.). MIT press.\n",
    "\n",
    "Sedgewick, R., & Wayne, K. (2011). *Algorithms* (4th ed.). Addison-Wesley."
   ]
  }
 ],
 "metadata": {
  "kernelspec": {
   "display_name": ".venv",
   "language": "python",
   "name": "python3"
  },
  "language_info": {
   "codemirror_mode": {
    "name": "ipython",
    "version": 3
   },
   "file_extension": ".py",
   "mimetype": "text/x-python",
   "name": "python",
   "nbconvert_exporter": "python",
   "pygments_lexer": "ipython3",
   "version": "3.12.6"
  }
 },
 "nbformat": 4,
 "nbformat_minor": 2
}
